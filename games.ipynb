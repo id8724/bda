{
 "cells": [
  {
   "cell_type": "code",
   "execution_count": 1,
   "id": "58df42d7-2b18-439d-8c47-6720449ef6a8",
   "metadata": {},
   "outputs": [],
   "source": [
    "import pandas as pd\n",
    "from sklearn.neighbors import NearestNeighbors\n",
    "from sklearn.preprocessing import LabelEncoder, StandardScaler"
   ]
  },
  {
   "cell_type": "code",
   "execution_count": 2,
   "id": "81abec3a-c887-43f6-87c3-67166b3f398f",
   "metadata": {},
   "outputs": [],
   "source": [
    "df = pd.read_csv('games.csv')"
   ]
  },
  {
   "cell_type": "code",
   "execution_count": 3,
   "id": "865fa64e-b0e4-442b-b277-ea8be3922da8",
   "metadata": {},
   "outputs": [
    {
     "name": "stdout",
     "output_type": "stream",
     "text": [
      "   game_id                                game_name      genre platform  \\\n",
      "0        1  The Legend of Zelda: Breath of the Wild  Adventure   Switch   \n",
      "1        2                               God of War     Action      PS4   \n",
      "2        3                    Red Dead Redemption 2  Adventure      PS4   \n",
      "3        4                      Mario Kart 8 Deluxe     Racing   Switch   \n",
      "4        5                 The Witcher 3: Wild Hunt        RPG      PS4   \n",
      "\n",
      "   release_year  rating  \n",
      "0          2017      97  \n",
      "1          2018      94  \n",
      "2          2018      97  \n",
      "3          2017      92  \n",
      "4          2015      92  \n"
     ]
    }
   ],
   "source": [
    "print(df.head())"
   ]
  },
  {
   "cell_type": "code",
   "execution_count": 4,
   "id": "6c6ffa71-50a8-4ec4-95d7-a4c5034cc914",
   "metadata": {},
   "outputs": [],
   "source": [
    "le_genre = LabelEncoder()\n",
    "le_platform = LabelEncoder()"
   ]
  },
  {
   "cell_type": "code",
   "execution_count": 5,
   "id": "c50d1c31-1de3-4f0d-8b5f-f8f589fc52a7",
   "metadata": {},
   "outputs": [],
   "source": [
    "df['genre_encoded'] = le_genre.fit_transform(df['genre'])\n",
    "df['platform_encoded'] = le_platform.fit_transform(df['platform'])"
   ]
  },
  {
   "cell_type": "code",
   "execution_count": 6,
   "id": "2aba8129-a80c-4d80-86f6-1c43bd2a569c",
   "metadata": {},
   "outputs": [],
   "source": [
    "features = ['genre_encoded', 'platform_encoded', 'release_year', 'rating']\n",
    "X = df[features]"
   ]
  },
  {
   "cell_type": "code",
   "execution_count": 7,
   "id": "7bedf3e3-415d-44b0-85ef-18ba5203307f",
   "metadata": {},
   "outputs": [],
   "source": [
    "scaler = StandardScaler()\n",
    "X_scaled = scaler.fit_transform(X)"
   ]
  },
  {
   "cell_type": "code",
   "execution_count": 8,
   "id": "d60ab5a2-ea5a-4aad-805a-37bac26a370e",
   "metadata": {},
   "outputs": [],
   "source": [
    "knn = NearestNeighbors(n_neighbors=3, algorithm='auto').fit(X_scaled)"
   ]
  },
  {
   "cell_type": "code",
   "execution_count": 9,
   "id": "fdb634e2-5dba-4ffe-83a0-a2982a8765fc",
   "metadata": {},
   "outputs": [],
   "source": [
    "def recommend_game(game_name):\n",
    "    game_index = df[df['game_name'] == game_name].index[0]\n",
    "    distances, indices = knn.kneighbors([X_scaled[game_index]])\n",
    "    \n",
    "    recommendations = df.iloc[indices[0]].drop(game_index)\n",
    "    \n",
    "    return recommendations[['game_name', 'genre', 'platform', 'release_year', 'rating']]"
   ]
  },
  {
   "cell_type": "code",
   "execution_count": 10,
   "id": "3b172233-5f8d-4964-8f4a-34db8038defb",
   "metadata": {},
   "outputs": [],
   "source": [
    "game_to_recommend = 'The Legend of Zelda: Breath of the Wild'\n",
    "recommendations = recommend_game(game_to_recommend)\n"
   ]
  },
  {
   "cell_type": "code",
   "execution_count": 11,
   "id": "234a366d-cab2-4110-b28b-22c5d204672e",
   "metadata": {},
   "outputs": [
    {
     "name": "stdout",
     "output_type": "stream",
     "text": [
      "Rekomendasi game untuk 'The Legend of Zelda: Breath of the Wild':\n",
      "               game_name      genre platform  release_year  rating\n",
      "5    Super Mario Odyssey  Adventure   Switch          2017      97\n",
      "2  Red Dead Redemption 2  Adventure      PS4          2018      97\n"
     ]
    }
   ],
   "source": [
    "print(f\"Rekomendasi game untuk '{game_to_recommend}':\")\n",
    "print(recommendations)"
   ]
  },
  {
   "cell_type": "code",
   "execution_count": null,
   "id": "772b0b8d-b441-4233-8f60-c0a52b5d4c97",
   "metadata": {},
   "outputs": [],
   "source": []
  }
 ],
 "metadata": {
  "kernelspec": {
   "display_name": "Python 3 (ipykernel)",
   "language": "python",
   "name": "python3"
  },
  "language_info": {
   "codemirror_mode": {
    "name": "ipython",
    "version": 3
   },
   "file_extension": ".py",
   "mimetype": "text/x-python",
   "name": "python",
   "nbconvert_exporter": "python",
   "pygments_lexer": "ipython3",
   "version": "3.11.7"
  }
 },
 "nbformat": 4,
 "nbformat_minor": 5
}
